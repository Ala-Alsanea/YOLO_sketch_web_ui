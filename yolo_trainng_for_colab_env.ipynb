{
  "cells": [
    {
      "cell_type": "markdown",
      "metadata": {
        "id": "view-in-github",
        "colab_type": "text"
      },
      "source": [
        "<a href=\"https://colab.research.google.com/github/Ala-Alsanea/YOLO_sketch_web_ui/blob/master/yolo_trainng_for_colab_env.ipynb\" target=\"_parent\"><img src=\"https://colab.research.google.com/assets/colab-badge.svg\" alt=\"Open In Colab\"/></a>"
      ]
    },
    {
      "cell_type": "markdown",
      "metadata": {
        "id": "ArcJWlFV5ZA9"
      },
      "source": [
        "## Install and Import Dependencies"
      ]
    },
    {
      "cell_type": "code",
      "execution_count": null,
      "metadata": {
        "id": "yY7sTi6d5ZBA"
      },
      "outputs": [],
      "source": [
        "!pip3 install torch torchvision torchaudio --index-url https://download.pytorch.org/whl/cu117"
      ]
    },
    {
      "cell_type": "code",
      "execution_count": null,
      "metadata": {
        "id": "9sg7l_4s5ZBC"
      },
      "outputs": [],
      "source": [
        "!git clone https://github.com/ultralytics/yolov5"
      ]
    },
    {
      "cell_type": "code",
      "execution_count": null,
      "metadata": {
        "id": "p5eJSNCr5ZBD"
      },
      "outputs": [],
      "source": [
        "!cd yolov5 && pip install -r requirements.txt"
      ]
    },
    {
      "cell_type": "code",
      "execution_count": null,
      "metadata": {
        "id": "M_78lxXw5ZBD"
      },
      "outputs": [],
      "source": [
        "import torch\n",
        "from matplotlib import pyplot as plt\n",
        "import numpy as np\n",
        "import cv2\n",
        "import os"
      ]
    },
    {
      "cell_type": "markdown",
      "metadata": {
        "id": "ZSLQaygt5ZBE"
      },
      "source": [
        "#  Load Model"
      ]
    },
    {
      "cell_type": "code",
      "execution_count": null,
      "metadata": {
        "id": "Y7Mxww2-5ZBE"
      },
      "outputs": [],
      "source": [
        "model = torch.hub.load('ultralytics/yolov5', 'yolov5s')"
      ]
    },
    {
      "cell_type": "code",
      "execution_count": null,
      "metadata": {
        "id": "dvsrNRw75ZBF"
      },
      "outputs": [],
      "source": [
        "model"
      ]
    },
    {
      "cell_type": "markdown",
      "metadata": {
        "id": "qib97yqq5ZBF"
      },
      "source": [
        "# Make Detections with Images"
      ]
    },
    {
      "cell_type": "code",
      "execution_count": null,
      "metadata": {
        "id": "SIV300i_5ZBG"
      },
      "outputs": [],
      "source": [
        "img = 'https://external-content.duckduckgo.com/iu/?u=https%3A%2F%2Fdeskrush.com%2Fwp-content%2Fuploads%2F2018%2F06%2FBugatti-Chiron4.jpg&f=1&nofb=1&ipt=5d54a86831d288f556ecb6a55853937305baaf989a7d5d2d1ed777c5f75d877a&ipo=images'"
      ]
    },
    {
      "cell_type": "code",
      "execution_count": null,
      "metadata": {
        "id": "zMRTFplu5ZBG",
        "colab": {
          "base_uri": "https://localhost:8080/"
        },
        "outputId": "c7f32772-5598-4acd-9adb-6c0ddff079e0"
      },
      "outputs": [
        {
          "output_type": "stream",
          "name": "stderr",
          "text": [
            "image 1/1: 1375x2250 1 car\n",
            "Speed: 1437.9ms pre-process, 46.7ms inference, 2.0ms NMS per image at shape (1, 3, 416, 640)\n"
          ]
        }
      ],
      "source": [
        "results = model(img)\n",
        "results.print()"
      ]
    },
    {
      "cell_type": "code",
      "execution_count": null,
      "metadata": {
        "id": "v5vuukJH5ZBH"
      },
      "outputs": [],
      "source": [
        "%matplotlib inline \n",
        "plt.imshow(np.squeeze(results.render()))\n",
        "plt.show()"
      ]
    },
    {
      "cell_type": "code",
      "execution_count": null,
      "metadata": {
        "id": "XqLVul7k5ZBH"
      },
      "outputs": [],
      "source": [
        "results.render()"
      ]
    },
    {
      "cell_type": "markdown",
      "metadata": {
        "id": "CbZikIwL5ZBI"
      },
      "source": [
        "# Get dataset"
      ]
    },
    {
      "cell_type": "code",
      "execution_count": null,
      "metadata": {
        "id": "z0Tlf-xD5ZBI"
      },
      "outputs": [],
      "source": [
        "import os\n",
        "!git clone https://github.com/Ala-Alsanea/sketch_web_ui_dataset.git"
      ]
    },
    {
      "cell_type": "code",
      "source": [
        "!cd sketch_web_ui_dataset &&  python3 setup.py"
      ],
      "metadata": {
        "id": "3d1A3dzDgLbY"
      },
      "execution_count": null,
      "outputs": []
    },
    {
      "cell_type": "code",
      "execution_count": null,
      "metadata": {
        "collapsed": true,
        "id": "SAMawjQL5ZBJ"
      },
      "outputs": [],
      "source": [
        "!python3 sketch_web_ui_dataset/create_new_dataset_and_preprocess.py -p sketch_web_ui_dataset"
      ]
    },
    {
      "cell_type": "code",
      "source": [
        "# !rm -rf /content/sketch_web_ui_dataset\n",
        "# !ls /content/sketch_web_ui_dataset"
      ],
      "metadata": {
        "id": "GPKcEUREgeQ3"
      },
      "execution_count": 7,
      "outputs": []
    },
    {
      "cell_type": "markdown",
      "metadata": {
        "id": "_fwPFAXG5ZBL"
      },
      "source": [
        "# Train from scratch"
      ]
    },
    {
      "cell_type": "code",
      "source": [
        "pre_model='yolov5m'"
      ],
      "metadata": {
        "id": "hgpe6qtTRN3T"
      },
      "execution_count": null,
      "outputs": []
    },
    {
      "cell_type": "code",
      "execution_count": null,
      "metadata": {
        "id": "-qw9QVZu5ZBM"
      },
      "outputs": [],
      "source": [
        "!cd yolov5 && python3 train.py --img 320 --batch 64 --epochs 100 --data ../sketch_web_ui_dataset/dataset.yaml --weights {pre_model}.pt --workers 8"
      ]
    },
    {
      "cell_type": "markdown",
      "source": [
        "# Validat model"
      ],
      "metadata": {
        "id": "JCKY3sT2vInJ"
      }
    },
    {
      "cell_type": "code",
      "source": [
        "!cd yolov5 && python3 val.py  --img 640 --half --data ../sketch_web_ui_dataset/dataset.yaml --weights runs/train/{model_exp}/weights/last.pt"
      ],
      "metadata": {
        "id": "TGFIRYdcvHKv"
      },
      "execution_count": null,
      "outputs": []
    },
    {
      "cell_type": "markdown",
      "metadata": {
        "id": "mXeI9Ev75ZBM"
      },
      "source": [
        "# Load Custom Model"
      ]
    },
    {
      "cell_type": "code",
      "source": [
        "model_exp='exp6'"
      ],
      "metadata": {
        "id": "hdoAh4huQJ-r"
      },
      "execution_count": null,
      "outputs": []
    },
    {
      "cell_type": "code",
      "execution_count": null,
      "metadata": {
        "id": "0whrmVZT5ZBN"
      },
      "outputs": [],
      "source": [
        "model = torch.hub.load('ultralytics/yolov5', 'custom', path=f'yolov5/runs/train/{model_exp}/weights/last.pt', force_reload=True)"
      ]
    },
    {
      "cell_type": "code",
      "execution_count": null,
      "metadata": {
        "id": "-ed_TudQ5ZBN"
      },
      "outputs": [],
      "source": [
        "img = 'sketch_web_ui_dataset/new_dataset/00004_png.rf.ca684ae59d6f64243191968d04714a9f.jpg'"
      ]
    },
    {
      "cell_type": "code",
      "execution_count": null,
      "metadata": {
        "id": "YdXefFwK5ZBO"
      },
      "outputs": [],
      "source": [
        "results = model(img)"
      ]
    },
    {
      "cell_type": "code",
      "execution_count": null,
      "metadata": {
        "id": "Ua2nchIb5ZBO",
        "outputId": "4e9bd7cd-5407-40d6-dbb8-33715798f936",
        "colab": {
          "base_uri": "https://localhost:8080/"
        }
      },
      "outputs": [
        {
          "output_type": "stream",
          "name": "stderr",
          "text": [
            "image 1/1: 640x640 1 Heading, 7 Images, 13 Labels, 5 Paragraphs\n",
            "Speed: 15.9ms pre-process, 26.7ms inference, 2.5ms NMS per image at shape (1, 3, 640, 640)\n"
          ]
        }
      ],
      "source": [
        "results.print()"
      ]
    },
    {
      "cell_type": "code",
      "execution_count": null,
      "metadata": {
        "id": "9lg6uL-t5ZBP"
      },
      "outputs": [],
      "source": [
        "%matplotlib inline \n",
        "plt.imshow(np.squeeze(results.render()))\n",
        "plt.show()"
      ]
    },
    {
      "cell_type": "markdown",
      "source": [
        "# export model"
      ],
      "metadata": {
        "id": "uQyb18uPu_te"
      }
    },
    {
      "cell_type": "code",
      "execution_count": null,
      "metadata": {
        "id": "qj3k4Z9p5ZBP"
      },
      "outputs": [],
      "source": [
        "!tar -czf {pre_model}[{model_exp}].tar.gz yolov5/runs/train/{model_exp}"
      ]
    },
    {
      "cell_type": "code",
      "source": [
        "from google.colab import drive\n",
        "drive.mount('/content/drive')"
      ],
      "metadata": {
        "colab": {
          "base_uri": "https://localhost:8080/"
        },
        "id": "7wIU5auuSIbC",
        "outputId": "6c59e17c-1f4b-490c-ed80-cbd0ebbb8bee"
      },
      "execution_count": null,
      "outputs": [
        {
          "output_type": "stream",
          "name": "stdout",
          "text": [
            "Drive already mounted at /content/drive; to attempt to forcibly remount, call drive.mount(\"/content/drive\", force_remount=True).\n"
          ]
        }
      ]
    },
    {
      "cell_type": "code",
      "execution_count": null,
      "metadata": {
        "id": "wfa6Vy7W5ZBQ"
      },
      "outputs": [],
      "source": [
        "!cd yolov5 && python3 val.py  --img 640 --half --data ../sketch_web_ui_dataset/dataset.yaml --weights runs/train/{model_exp}/weights/last.pt"
      ]
    }
  ],
  "metadata": {
    "kernelspec": {
      "display_name": "Python 3 (ipykernel)",
      "language": "python",
      "name": "python3"
    },
    "language_info": {
      "codemirror_mode": {
        "name": "ipython",
        "version": 3
      },
      "file_extension": ".py",
      "mimetype": "text/x-python",
      "name": "python",
      "nbconvert_exporter": "python",
      "pygments_lexer": "ipython3",
      "version": "3.10.10"
    },
    "colab": {
      "provenance": [],
      "gpuType": "T4",
      "include_colab_link": true
    },
    "accelerator": "GPU",
    "gpuClass": "standard"
  },
  "nbformat": 4,
  "nbformat_minor": 0
}